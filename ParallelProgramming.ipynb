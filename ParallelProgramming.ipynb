{
 "cells": [
  {
   "cell_type": "markdown",
   "id": "fe938ef1",
   "metadata": {
    "slideshow": {
     "slide_type": "slide"
    }
   },
   "source": [
    "# Concepts for parallel programming\n",
    "\n",
    "* Some of the main different concepts when it comes to writing code that should not just be serial\n",
    "* With a special focus on *asynchronous* programming.\n",
    "* When to are those concepts most appropriate?"
   ]
  },
  {
   "cell_type": "markdown",
   "id": "0b4139f9",
   "metadata": {
    "slideshow": {
     "slide_type": "fragment"
    }
   },
   "source": [
    "A real life example for to better grasp those concepts:"
   ]
  },
  {
   "cell_type": "markdown",
   "id": "fc1360cb",
   "metadata": {
    "slideshow": {
     "slide_type": "subslide"
    }
   },
   "source": [
    "## Cooking Mpo-Tofu:\n",
    "<center><img src=\"assets/MapoTofu.jpg\" width=\"450px\"></center>\n",
    "\n",
    " A popular Sichuan dish that consists of tofu and minced meat set in a oily spicy sauce made from fermented beans and chili paste based."
   ]
  },
  {
   "cell_type": "markdown",
   "id": "c9d37228",
   "metadata": {
    "slideshow": {
     "slide_type": "subslide"
    }
   },
   "source": [
    "### Why cooking?\n",
    "\n",
    "Because it demonstrates that the real world is *asynchronous*\n",
    "\n",
    "### Why Mapo-Tofu?\n",
    "Because it's my favourite dish."
   ]
  },
  {
   "cell_type": "markdown",
   "id": "a623147e",
   "metadata": {
    "slideshow": {
     "slide_type": "subslide"
    }
   },
   "source": [
    "## Let's get started - Ingredients:\n",
    "\n",
    "* Silken (soft) tofu\n",
    "* minced meat\n",
    "* Chili-Oil\n",
    "* Douchi (fermented black beans)\n",
    "* Spices"
   ]
  },
  {
   "cell_type": "markdown",
   "id": "bace3b87",
   "metadata": {
    "slideshow": {
     "slide_type": "subslide"
    }
   },
   "source": [
    "## Let's get started - Steps:\n",
    "\n",
    "* Wash and boil rice\n",
    "* Blend spices\n",
    "* Fry spices in chili oil\n",
    "* Fry minced meat\n",
    "* Add tofu to spice oil\n",
    "* Add meat to spice oil\n",
    "* Stir and serve"
   ]
  },
  {
   "cell_type": "markdown",
   "id": "fc52df88",
   "metadata": {
    "slideshow": {
     "slide_type": "slide"
    }
   },
   "source": [
    "## Let's code - the classic approach\n",
    "Let's try to simulate the cooking process. For this we are going to define simple functions\n",
    "the can be seen as the steps for cooking Mapo-Tofu."
   ]
  },
  {
   "cell_type": "code",
   "execution_count": 1,
   "id": "cc8e791c",
   "metadata": {
    "slideshow": {
     "slide_type": "fragment"
    }
   },
   "outputs": [],
   "source": [
    "import logging\n",
    "import time\n",
    "from typing import List, Tuple"
   ]
  },
  {
   "cell_type": "code",
   "execution_count": 2,
   "id": "27901dc8",
   "metadata": {
    "slideshow": {
     "slide_type": "subslide"
    }
   },
   "outputs": [],
   "source": [
    "def prepare_rice() -> Tuple[float, float]:\n",
    "    \"\"\"Perpare the rice: whash and boil it.\"\"\"\n",
    "    \n",
    "    print(\"Washing the rice ... \", end=\"\")\n",
    "    time.sleep(2)\n",
    "    print(\"done\")\n",
    "    print(\"Boiling the rice ... \", end=\"\")\n",
    "    time.sleep(5)\n",
    "    print(\"done\")\n",
    "    return time.time(), 80.\n",
    "\n",
    "    "
   ]
  },
  {
   "cell_type": "code",
   "execution_count": 3,
   "id": "e72864af",
   "metadata": {
    "slideshow": {
     "slide_type": "subslide"
    }
   },
   "outputs": [],
   "source": [
    "def prepare_spices() -> Tuple[float, float]:\n",
    "    \"\"\"Blend all spices together and fry them.\"\"\"\n",
    "        \n",
    "    print(\"Blending spices ... \", end=\"\")\n",
    "    time.sleep(2)\n",
    "    print(\"done\")\n",
    "    print(\"Frying spices ...\", end=\"\")\n",
    "    time.sleep(5)\n",
    "    print(\"done\")\n",
    "    return time.time(), 120."
   ]
  },
  {
   "cell_type": "code",
   "execution_count": 4,
   "id": "0f35802b",
   "metadata": {
    "slideshow": {
     "slide_type": "subslide"
    }
   },
   "outputs": [],
   "source": [
    "def prepare_meat_and_tofu() -> Tuple[float, float]:\n",
    "    \"\"\"Fry the meat and add the tofu.\"\"\"\n",
    "    \n",
    "    print(\"Frying meat ... \", end=\"\")\n",
    "    time.sleep(5)\n",
    "    print(\"done\")\n",
    "    print(\"Mixing tofu...\", end=\"\")\n",
    "    time.sleep(2)\n",
    "    print(\"done\")\n",
    "    return time.time(), 90."
   ]
  },
  {
   "cell_type": "code",
   "execution_count": 5,
   "id": "ffaa2d95",
   "metadata": {
    "slideshow": {
     "slide_type": "subslide"
    }
   },
   "outputs": [],
   "source": [
    "def cook() -> None:\n",
    "    \"\"\"Cook the meal.\"\"\"\n",
    "    start = time.time()\n",
    "    rice = prepare_rice()\n",
    "    oil = prepare_spices()\n",
    "    mapo = prepare_meat_and_tofu()\n",
    "    print(\"Mixing oil and meat\", end=\"\")\n",
    "    time.sleep(2)\n",
    "    print(\"done\")\n",
    "    serve_dish(start, rice)"
   ]
  },
  {
   "cell_type": "code",
   "execution_count": 6,
   "id": "f888ff3f",
   "metadata": {
    "slideshow": {
     "slide_type": "subslide"
    }
   },
   "outputs": [],
   "source": [
    "def serve_dish(\n",
    "    start: float,\n",
    "    rice_prop: Tuple[float, float], \n",
    ") -> None:\n",
    "    \"\"\"Serve the disch and check the temp. of the rice.\"\"\"\n",
    "    now = time.time()\n",
    "    rice_temp = rice_prop[-1] - (2 * (now - rice_prop[0]))\n",
    "    print(f\"Rice temperature: {rice_temp:02.1f}\")\n",
    "    print(f\"Preperation time: {(now-start):2.3f}\")"
   ]
  },
  {
   "cell_type": "code",
   "execution_count": 7,
   "id": "67878fbe",
   "metadata": {
    "slideshow": {
     "slide_type": "subslide"
    }
   },
   "outputs": [
    {
     "name": "stdout",
     "output_type": "stream",
     "text": [
      "Washing the rice ... done\n",
      "Boiling the rice ... done\n",
      "Blending spices ... done\n",
      "Frying spices ...done\n",
      "Frying meat ... done\n",
      "Mixing tofu...done\n",
      "Mixing oil and meatdone\n",
      "Rice temperature: 48.0\n",
      "Preperation time: 23.021\n"
     ]
    }
   ],
   "source": [
    "cook()"
   ]
  },
  {
   "cell_type": "markdown",
   "id": "ad1db76e",
   "metadata": {
    "slideshow": {
     "slide_type": "slide"
    }
   },
   "source": [
    "## Let's try a multi-threaded version of this:\n",
    "* The OS can execute a program on multiple *cores* of a cpu in parallel\n",
    "* This parallel execution share resources via the cpu cache\n",
    "* In python *real* multi-threading doesn't work, because of the (GIL)\n",
    "    * The python interpreter executes only on line of python code at a time\n",
    "    * **But**: *CPython* libraries such as numpy, time etc can release the GIL"
   ]
  },
  {
   "cell_type": "code",
   "execution_count": 8,
   "id": "679a26d5",
   "metadata": {
    "slideshow": {
     "slide_type": "fragment"
    }
   },
   "outputs": [],
   "source": [
    "from concurrent.futures import ThreadPoolExecutor, as_completed"
   ]
  },
  {
   "cell_type": "code",
   "execution_count": 9,
   "id": "df3b4d4b",
   "metadata": {
    "slideshow": {
     "slide_type": "subslide"
    }
   },
   "outputs": [],
   "source": [
    "def threadded_cook() -> None:\n",
    "    \"\"\"A multi-threadded version of cook\"\"\"\n",
    "    with ThreadPoolExecutor() as pool:\n",
    "        start = time.time()\n",
    "        rice_thread = pool.submit(prepare_rice)\n",
    "        spice_thread = pool.submit(prepare_spices)\n",
    "        mapo_thread = pool.submit(prepare_meat_and_tofu)\n",
    "        results = list(as_completed([rice_thread, spice_thread, mapo_thread]))\n",
    "        print(\"Mixing oil and map\", end=\"\")\n",
    "        time.sleep(2)\n",
    "        print(\"done\")\n",
    "        serve_dish(start, results[0].result())"
   ]
  },
  {
   "cell_type": "code",
   "execution_count": 10,
   "id": "e4a62e1c",
   "metadata": {
    "slideshow": {
     "slide_type": "subslide"
    }
   },
   "outputs": [
    {
     "name": "stdout",
     "output_type": "stream",
     "text": [
      "Washing the rice ... Blending spices ... Frying meat ... done\n",
      "Boiling the rice ... done\n",
      "Frying spices ...done\n",
      "Mixing tofu...done\n",
      "done\n",
      "done\n",
      "Mixing oil and mapdone\n",
      "Rice temperature: 76.0\n",
      "Preperation time: 9.008\n"
     ]
    }
   ],
   "source": [
    "threadded_cook()"
   ]
  },
  {
   "cell_type": "markdown",
   "id": "487bba38",
   "metadata": {
    "slideshow": {
     "slide_type": "subslide"
    }
   },
   "source": [
    "## There is a catch:\n",
    "* The shared resources can mess up each other:\n"
   ]
  },
  {
   "cell_type": "code",
   "execution_count": 31,
   "id": "0d26244f",
   "metadata": {
    "slideshow": {
     "slide_type": "fragment"
    }
   },
   "outputs": [],
   "source": [
    "def cut_meat(cupboard: List[str]) -> None:\n",
    "    cupboard.pop(cupboard.index(\"knive\"))\n",
    "    print(\"Cutting the meat\")\n",
    "    time.sleep(1)\n",
    "    cupboard.append(\"knive\")\n",
    "def cut_spices(cupboard: List[str]) -> None:   \n",
    "    cupboard.pop(cupboard.index(\"knive\"))\n",
    "    print(\"Cutting the spices\")\n",
    "    time.sleep(1)\n",
    "    cupboard.append(\"knive\")\n",
    "    "
   ]
  },
  {
   "cell_type": "markdown",
   "id": "08661d8f",
   "metadata": {
    "slideshow": {
     "slide_type": "subslide"
    }
   },
   "source": [
    "Now let's run these functions in a multi-threaded context:"
   ]
  },
  {
   "cell_type": "code",
   "execution_count": 34,
   "id": "f93771a4",
   "metadata": {
    "slideshow": {
     "slide_type": "fragment"
    }
   },
   "outputs": [
    {
     "name": "stdout",
     "output_type": "stream",
     "text": [
      "Cutting the meat\n"
     ]
    },
    {
     "name": "stderr",
     "output_type": "stream",
     "text": [
      "ERROR:root:'knive' is not in list\n",
      "Traceback (most recent call last):\n",
      "  File \"/tmp/ipykernel_544052/2699050649.py\", line 6, in <cell line: 1>\n",
      "    cut_1.result(), cut_2.result()\n",
      "  File \"/home/wilfred/.anaconda3/envs/plotting/lib/python3.10/concurrent/futures/_base.py\", line 439, in result\n",
      "    return self.__get_result()\n",
      "  File \"/home/wilfred/.anaconda3/envs/plotting/lib/python3.10/concurrent/futures/_base.py\", line 391, in __get_result\n",
      "    raise self._exception\n",
      "  File \"/home/wilfred/.anaconda3/envs/plotting/lib/python3.10/concurrent/futures/thread.py\", line 58, in run\n",
      "    result = self.fn(*self.args, **self.kwargs)\n",
      "  File \"/tmp/ipykernel_544052/4159176023.py\", line 7, in cut_spices\n",
      "    cupboard.pop(cupboard.index(\"knive\"))\n",
      "ValueError: 'knive' is not in list\n"
     ]
    }
   ],
   "source": [
    "with ThreadPoolExecutor() as pool:\n",
    "    cupboard = [\"knive\", \"spoon\", \"fork\"]\n",
    "    cut_1 = pool.submit(cut_meat, cupboard)\n",
    "    cut_2 = pool.submit(cut_spices, cupboard)\n",
    "    try:\n",
    "        cut_1.result(), cut_2.result()\n",
    "    except Exception as error:\n",
    "        logging.exception(error)\n",
    "    "
   ]
  },
  {
   "cell_type": "markdown",
   "id": "908fb385",
   "metadata": {
    "slideshow": {
     "slide_type": "subslide"
    }
   },
   "source": [
    "### What's the catch?"
   ]
  },
  {
   "cell_type": "markdown",
   "id": "e2d78183",
   "metadata": {
    "slideshow": {
     "slide_type": "fragment"
    }
   },
   "source": [
    "* The two threads are trying to *modify* the same resources at the same time -> **race condition**"
   ]
  },
  {
   "cell_type": "markdown",
   "id": "8f74dfd1",
   "metadata": {
    "slideshow": {
     "slide_type": "fragment"
    }
   },
   "source": [
    "* We could use thread locks but in more complicated examples this could lead to threads\n",
    "blocking each other -> **dead lock**"
   ]
  },
  {
   "cell_type": "markdown",
   "id": "d7051021",
   "metadata": {
    "slideshow": {
     "slide_type": "fragment"
    }
   },
   "source": [
    "* Errors in multi-threaded code can be hard to debug"
   ]
  },
  {
   "cell_type": "markdown",
   "id": "42118bb7",
   "metadata": {
    "slideshow": {
     "slide_type": "slide"
    }
   },
   "source": [
    "## A possible solution: multi-*processing*"
   ]
  },
  {
   "cell_type": "code",
   "execution_count": 13,
   "id": "f609e1ed",
   "metadata": {
    "slideshow": {
     "slide_type": "fragment"
    }
   },
   "outputs": [],
   "source": [
    "from concurrent.futures import ProcessPoolExecutor"
   ]
  },
  {
   "cell_type": "code",
   "execution_count": 14,
   "id": "aafb1642",
   "metadata": {
    "slideshow": {
     "slide_type": "fragment"
    }
   },
   "outputs": [
    {
     "name": "stdout",
     "output_type": "stream",
     "text": [
      "Cutting the meat\n",
      "Cutting the spices\n"
     ]
    }
   ],
   "source": [
    "with ProcessPoolExecutor() as pool:\n",
    "    cupboard = [\"knive\", \"spoon\", \"fork\"]\n",
    "    cut_1 = pool.submit(cut_meat, cupboard)\n",
    "    cut_2 = pool.submit(cut_spices, cupboard)\n",
    "    cut_1.result(), cut_2.result()"
   ]
  },
  {
   "cell_type": "markdown",
   "id": "d6854ec7",
   "metadata": {
    "slideshow": {
     "slide_type": "subslide"
    }
   },
   "source": [
    "### What's the catch:"
   ]
  },
  {
   "cell_type": "markdown",
   "id": "e0a38931",
   "metadata": {
    "slideshow": {
     "slide_type": "fragment"
    }
   },
   "source": [
    "* All objects have to be pickled (python) -> possible overhead\n"
   ]
  },
  {
   "cell_type": "markdown",
   "id": "26f96e36",
   "metadata": {
    "slideshow": {
     "slide_type": "fragment"
    }
   },
   "source": [
    "* Per default no communication between processes\n",
    "    * information exchange has to implemented by the mp interface/lib\n",
    "    * information exchange can cause significant overhead"
   ]
  },
  {
   "cell_type": "markdown",
   "id": "e2ac7d8f",
   "metadata": {
    "slideshow": {
     "slide_type": "subslide"
    }
   },
   "source": [
    "* Eventually your OS is orchestrating threads and processes:\n",
    "<centering><img src=\"assets/Shiva.png\" width=\"450px\"><centering>\n",
    "* Too much load will strangle your system."
   ]
  },
  {
   "cell_type": "markdown",
   "id": "2c7cddd5",
   "metadata": {
    "slideshow": {
     "slide_type": "slide"
    }
   },
   "source": [
    "## How would we cook in the real world?\n",
    "We wouldn't:\n",
    "* do one step at a time, \n",
    "* nor, invite `N` friends to help you cook a dish with `N` preparation steps!"
   ]
  },
  {
   "cell_type": "markdown",
   "id": "e970e3c5",
   "metadata": {
    "slideshow": {
     "slide_type": "fragment"
    }
   },
   "source": [
    "We would:\n",
    "* boil the rice, while rice is boiling heat oil, while oil is heating up cut spices ..."
   ]
  },
  {
   "cell_type": "markdown",
   "id": "1ca4e511",
   "metadata": {
    "slideshow": {
     "slide_type": "fragment"
    }
   },
   "source": [
    "### How can this be done in a programming context?"
   ]
  },
  {
   "cell_type": "markdown",
   "id": "7b63015e",
   "metadata": {
    "slideshow": {
     "slide_type": "slide"
    }
   },
   "source": [
    "# Asynchronous programming"
   ]
  },
  {
   "cell_type": "markdown",
   "id": "fdc80604",
   "metadata": {
    "slideshow": {
     "slide_type": "fragment"
    }
   },
   "source": [
    "Python has the GIL that can be *acquired* and *released*; but only by low level *CPython*."
   ]
  },
  {
   "cell_type": "markdown",
   "id": "34ea472e",
   "metadata": {
    "slideshow": {
     "slide_type": "fragment"
    }
   },
   "source": [
    "In reality *we* want to tell the programming logic when to *wait* for tasks and when\n",
    "things can be done in the \"background\". To do so we need a whole new framework with its own syntax (`await` and `async`): "
   ]
  },
  {
   "cell_type": "code",
   "execution_count": 15,
   "id": "8f9c8783",
   "metadata": {
    "slideshow": {
     "slide_type": "-"
    }
   },
   "outputs": [],
   "source": [
    "import asyncio"
   ]
  },
  {
   "cell_type": "code",
   "execution_count": 16,
   "id": "15712854",
   "metadata": {
    "slideshow": {
     "slide_type": "subslide"
    }
   },
   "outputs": [],
   "source": [
    "async def prepare_rice_async() -> Tuple[float, float]:\n",
    "    \"\"\"Perpare the rice: whash and boil it.\"\"\"\n",
    "    \n",
    "    print(\"Washing the rice ... \", end=\"\")\n",
    "    await asyncio.sleep(2)\n",
    "    print(\"done\")\n",
    "    print(\"Boiling the rice ... \", end=\"\")\n",
    "    await asyncio.sleep(5)\n",
    "    print(\"done\")\n",
    "    return time.time(), 80.\n",
    "\n",
    "    "
   ]
  },
  {
   "cell_type": "code",
   "execution_count": 17,
   "id": "84c0db77",
   "metadata": {
    "slideshow": {
     "slide_type": "skip"
    }
   },
   "outputs": [],
   "source": [
    "async def prepare_spices_async() -> Tuple[float, float]:\n",
    "    \"\"\"Blend all spices together and fry them.\"\"\"\n",
    "        \n",
    "    print(\"Blending spices ... \", end=\"\")\n",
    "    await asyncio.sleep(2)\n",
    "    print(\"done\")\n",
    "    print(\"Frying spices ...\", end=\"\")\n",
    "    await asyncio.sleep(5)\n",
    "    print(\"done\")\n",
    "    return time.time(), 120."
   ]
  },
  {
   "cell_type": "code",
   "execution_count": 18,
   "id": "a1012b86",
   "metadata": {
    "slideshow": {
     "slide_type": "skip"
    }
   },
   "outputs": [],
   "source": [
    "async def prepare_meat_and_tofu_async() -> Tuple[float, float]:\n",
    "    \"\"\"Fry the meat and add the tofu.\"\"\"\n",
    "    \n",
    "    print(\"Frying meat ... \", end=\"\")\n",
    "    await asyncio.sleep(5)\n",
    "    print(\"done\")\n",
    "    print(\"Mixing tofu...\", end=\"\")\n",
    "    await asyncio.sleep(2)\n",
    "    print(\"done\")\n",
    "    return time.time(), 90."
   ]
  },
  {
   "cell_type": "code",
   "execution_count": 19,
   "id": "c3a3750d",
   "metadata": {
    "slideshow": {
     "slide_type": "subslide"
    }
   },
   "outputs": [],
   "source": [
    "async def cook_async() -> None:\n",
    "    \"\"\"Cook the meal.\"\"\"\n",
    "    start = time.time()\n",
    "    rice_task = asyncio.create_task(prepare_rice_async())\n",
    "    oil_task = asyncio.create_task(prepare_spices_async())\n",
    "    mapo_task = asyncio.create_task(prepare_meat_and_tofu_async())\n",
    "    await asyncio.gather(rice_task, oil_task, mapo_task)\n",
    "    print(\"Mixing oil and meat\", end=\"\")\n",
    "    await asyncio.sleep(2)\n",
    "    print(\"done\")\n",
    "    await serve_dish_async(start, rice_task.result())"
   ]
  },
  {
   "cell_type": "code",
   "execution_count": 20,
   "id": "7978f788",
   "metadata": {
    "slideshow": {
     "slide_type": "skip"
    }
   },
   "outputs": [],
   "source": [
    "async def serve_dish_async(\n",
    "    start: float,\n",
    "    rice_prop: Tuple[float, float], \n",
    ") -> None:\n",
    "    \"\"\"Serve the disch and check the temp. of the rice.\"\"\"\n",
    "    now = time.time()\n",
    "    rice_temp = rice_prop[-1] - (2 * (now - rice_prop[0]))\n",
    "    print(f\"Rice temperature: {rice_temp:02.1f}\")\n",
    "    print(f\"Preperation time: {(now-start):2.3f}\")"
   ]
  },
  {
   "cell_type": "code",
   "execution_count": 28,
   "id": "2fa20971",
   "metadata": {
    "slideshow": {
     "slide_type": "subslide"
    }
   },
   "outputs": [
    {
     "name": "stdout",
     "output_type": "stream",
     "text": [
      "Washing the rice ... Blending spices ... Frying meat ... done\n",
      "Boiling the rice ... done\n",
      "Frying spices ...done\n",
      "Mixing tofu...done\n",
      "done\n",
      "done\n",
      "Mixing oil and meatdone\n",
      "Rice temperature: 76.0\n",
      "Preperation time: 9.005\n"
     ]
    }
   ],
   "source": [
    "loop = asyncio.get_event_loop()\n",
    "_ = loop.create_task(cook_async())\n",
    "# If we weren't using jupyter we could simply call\n",
    "# `asyncio.run(cook_async())` instead of this shenanigans above\n"
   ]
  },
  {
   "cell_type": "markdown",
   "id": "50684c8a",
   "metadata": {
    "slideshow": {
     "slide_type": "subslide"
    }
   },
   "source": [
    "our cooking was executed in one single thread, simply by being smart about telling python about when it can execute what. \n",
    "\n",
    "The problems that we have with multi threading / processing doesn't really occur!"
   ]
  },
  {
   "cell_type": "markdown",
   "id": "96f427a4",
   "metadata": {
    "slideshow": {
     "slide_type": "subslide"
    }
   },
   "source": [
    "### What's the catch?\n",
    "* Everything has to be stream lined. If some code blocks the execution benefits are gone:"
   ]
  },
  {
   "cell_type": "markdown",
   "id": "6af8132d",
   "metadata": {
    "slideshow": {
     "slide_type": "fragment"
    }
   },
   "source": [
    "```python\n",
    "lock = True\n",
    "async def consumer() -> None:\n",
    "    while lock is True:\n",
    "        print(\"Waiting for lock\", end=\"\\r\")\n",
    "        time.sleep(1)\n",
    "    print(\"Waiting done, exiting\")\n",
    "\n",
    "async def producer() -> None:\n",
    "    task = asyncio.create_task(consumer())\n",
    "    await asyncio.sleep(.5)\n",
    "    lock = True\n",
    "    asyncio.gather(task)\n",
    "```"
   ]
  },
  {
   "cell_type": "markdown",
   "id": "e5673648",
   "metadata": {
    "slideshow": {
     "slide_type": "subslide"
    }
   },
   "source": [
    "There are a lot of aspects we can't cover like `coroutines`, `tasks`, `event loops` but there is great reading material out there:\n",
    "\n",
    "* https://realpython.com/async-io-python\n",
    "* https://realpython.com/python-concurrency"
   ]
  },
  {
   "cell_type": "markdown",
   "id": "b5dacfa3",
   "metadata": {
    "slideshow": {
     "slide_type": "slide"
    }
   },
   "source": [
    "## When to use which concept?\n",
    "Rule of thumb:"
   ]
  },
  {
   "cell_type": "markdown",
   "id": "236d075f",
   "metadata": {
    "slideshow": {
     "slide_type": "fragment"
    }
   },
   "source": [
    "Async / Multi-Threading:"
   ]
  },
  {
   "cell_type": "markdown",
   "id": "aa0bf096",
   "metadata": {
    "slideshow": {
     "slide_type": "fragment"
    }
   },
   "source": [
    "* When your program needs to wait a lot on external things (like responses from web servers)\n",
    "* Needs to handle requests at the same time (like a web server)\n",
    "\n",
    "I/O bound"
   ]
  },
  {
   "cell_type": "markdown",
   "id": "5196c35f",
   "metadata": {
    "slideshow": {
     "slide_type": "fragment"
    }
   },
   "source": [
    "Multi-Processing:"
   ]
  },
  {
   "cell_type": "markdown",
   "id": "ad403314",
   "metadata": {
    "slideshow": {
     "slide_type": "fragment"
    }
   },
   "source": [
    "* When your program doesn't have time to wait but calculates a lot\n",
    "\n",
    "CPU bound"
   ]
  },
  {
   "cell_type": "markdown",
   "id": "c47c22c0",
   "metadata": {
    "slideshow": {
     "slide_type": "fragment"
    }
   },
   "source": [
    "### Let's do a CPU bound example:"
   ]
  },
  {
   "cell_type": "code",
   "execution_count": 22,
   "id": "1337e0a3",
   "metadata": {
    "slideshow": {
     "slide_type": "slide"
    }
   },
   "outputs": [],
   "source": [
    "def cpu_bound(number: int) -> int:\n",
    "    return sum(i * i for i in range(number))\n",
    "\n",
    "def find_sums() -> None:\n",
    "    numbers = (5_000_000 + x for x in range(20))\n",
    "    start_time = time.time()\n",
    "    for number in numbers:\n",
    "        cpu_bound(number)\n",
    "    duration = time.time() - start_time\n",
    "    print(f\"Duration {duration:1.2f} seconds\")"
   ]
  },
  {
   "cell_type": "code",
   "execution_count": 23,
   "id": "d211c734",
   "metadata": {
    "slideshow": {
     "slide_type": "-"
    }
   },
   "outputs": [
    {
     "name": "stdout",
     "output_type": "stream",
     "text": [
      "Duration 6.03 seconds\n"
     ]
    }
   ],
   "source": [
    "find_sums()"
   ]
  },
  {
   "cell_type": "code",
   "execution_count": 24,
   "id": "b7ae11f7",
   "metadata": {
    "slideshow": {
     "slide_type": "subslide"
    }
   },
   "outputs": [],
   "source": [
    "def find_sums_threaded() -> None:\n",
    "    numbers = (5_000_000 + x for x in range(20))\n",
    "    start_time = time.time()\n",
    "    with ThreadPoolExecutor() as pool:\n",
    "        pool.map(cpu_bound, numbers)\n",
    "    duration = time.time() - start_time\n",
    "    print(f\"Duration {duration:1.2f} seconds\")"
   ]
  },
  {
   "cell_type": "code",
   "execution_count": 25,
   "id": "00700793",
   "metadata": {
    "slideshow": {
     "slide_type": "-"
    }
   },
   "outputs": [
    {
     "name": "stdout",
     "output_type": "stream",
     "text": [
      "Duration 6.16 seconds\n"
     ]
    }
   ],
   "source": [
    "find_sums_threaded()"
   ]
  },
  {
   "cell_type": "code",
   "execution_count": 29,
   "id": "ea2c37e3",
   "metadata": {
    "slideshow": {
     "slide_type": "subslide"
    }
   },
   "outputs": [],
   "source": [
    "def find_sums_process() -> None:\n",
    "    numbers = (5_000_000 + x for x in range(20))\n",
    "    start_time = time.time()\n",
    "    with ProcessPoolExecutor() as pool:\n",
    "        pool.map(cpu_bound, numbers)\n",
    "    duration = time.time() - start_time\n",
    "    print(f\"Duration {duration:1.2f} seconds\")"
   ]
  },
  {
   "cell_type": "code",
   "execution_count": 30,
   "id": "a541e939",
   "metadata": {
    "slideshow": {
     "slide_type": "-"
    }
   },
   "outputs": [
    {
     "name": "stdout",
     "output_type": "stream",
     "text": [
      "Duration 2.17 seconds\n"
     ]
    }
   ],
   "source": [
    "find_sums_process()"
   ]
  },
  {
   "cell_type": "code",
   "execution_count": null,
   "id": "87a49994",
   "metadata": {
    "slideshow": {
     "slide_type": "skip"
    }
   },
   "outputs": [],
   "source": []
  }
 ],
 "metadata": {
  "celltoolbar": "Slideshow",
  "kernelspec": {
   "display_name": "Python 3 (ipykernel)",
   "language": "python",
   "name": "python3"
  },
  "language_info": {
   "codemirror_mode": {
    "name": "ipython",
    "version": 3
   },
   "file_extension": ".py",
   "mimetype": "text/x-python",
   "name": "python",
   "nbconvert_exporter": "python",
   "pygments_lexer": "ipython3",
   "version": "3.10.4"
  }
 },
 "nbformat": 4,
 "nbformat_minor": 5
}
